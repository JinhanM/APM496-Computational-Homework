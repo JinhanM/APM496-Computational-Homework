{
  "nbformat": 4,
  "nbformat_minor": 0,
  "metadata": {
    "colab": {
      "name": "Untitled6.ipynb",
      "provenance": []
    },
    "kernelspec": {
      "name": "python3",
      "display_name": "Python 3"
    }
  },
  "cells": [
    {
      "cell_type": "markdown",
      "metadata": {
        "id": "nlIxhNcyc4Fo",
        "colab_type": "text"
      },
      "source": [
        "# Optimization in Machine Learning (Winter 2020)\n",
        "# Assignment 2"
      ]
    },
    {
      "cell_type": "markdown",
      "metadata": {
        "id": "j0_YVY_qdM8l",
        "colab_type": "text"
      },
      "source": [
        "Your Name:\n",
        "\n",
        "Email:\n"
      ]
    },
    {
      "cell_type": "markdown",
      "metadata": {
        "id": "CkngklPtdBgj",
        "colab_type": "text"
      },
      "source": [
        "Before you start, please read the instructions of this assignment.\n",
        "\n",
        "For any questions, please email to yhe@mie.utoronto.ca\n",
        "\n",
        "**For free-response parts, please submit a seperate .pdf file**"
      ]
    },
    {
      "cell_type": "markdown",
      "metadata": {
        "id": "Z33aTMoWcz_g",
        "colab_type": "text"
      },
      "source": [
        "## Problem 1: Linear Support Vector Machine"
      ]
    },
    {
      "cell_type": "code",
      "metadata": {
        "id": "GfnNe2unc1ZB",
        "colab_type": "code",
        "colab": {}
      },
      "source": [
        "# Import Libraries\n",
        "from numpy import *\n",
        "import pandas as pd\n",
        "import cvxpy as cp\n",
        "import time\n",
        "import cvxopt\n",
        "from cvxopt import matrix as cvxopt_matrix\n",
        "from cvxopt import solvers as cvxopt_solvers\n",
        "import matplotlib.pylab as plt"
      ],
      "execution_count": 0,
      "outputs": []
    },
    {
      "cell_type": "code",
      "metadata": {
        "id": "lbDgCB2ydWmw",
        "colab_type": "code",
        "colab": {}
      },
      "source": [
        "# Import Data\n",
        "data1 = pd.read_csv('prob1data.csv',header=None).values\n",
        "X = data1[:,0:2]\n",
        "y = data1[:,-1]\n",
        "\n",
        "# Hint: examine the data before you start coding SVM"
      ],
      "execution_count": 0,
      "outputs": []
    },
    {
      "cell_type": "code",
      "metadata": {
        "id": "xVZBwwA7dYw_",
        "colab_type": "code",
        "colab": {}
      },
      "source": [
        "# Problem (1a)\n",
        "def LinearSVM_Primal (X, y, C):\n",
        "  # -------- INSERT YOUR CODE HERE -------- #\n",
        "  # \n",
        "  #\n",
        "\n",
        "  return w, b, sol_time\n",
        "\n",
        "# Compute the decision boundary\n",
        "# -------- INSERT YOUR CODE HERE -------- # \n",
        "\n",
        "# Compute the optimal support vectors\n",
        "# -------- INSERT YOUR CODE HERE -------- #\n"
      ],
      "execution_count": 0,
      "outputs": []
    },
    {
      "cell_type": "code",
      "metadata": {
        "id": "UfDRRl5Qdc6G",
        "colab_type": "code",
        "colab": {}
      },
      "source": [
        "# Problem (1b)\n",
        "\n",
        "def LinearSVM_Dual (X, y, C):\n",
        "\n",
        "  n, p = X.shape\n",
        "  y = y.reshape(-1,1) * 1.\n",
        "  X_dash = y * X\n",
        "  # Complete the following code:\n",
        "  # cvxopt_solvers.qp(P, q, G, h, A, b)\n",
        "  # objective:    (1/2) x^T P x + q^T x\n",
        "  # constraints:  Gx < h\n",
        "  #               Ax = b\n",
        "  # example could be found here:\n",
        "  # https://cvxopt.org/userguide/coneprog.html#quadratic-programming\n",
        "  \n",
        "  P = cvxopt_matrix(# -- INSERT YOUR CODE HERE -- #)\n",
        "  q = cvxopt_matrix(# -- INSERT YOUR CODE HERE -- #)\n",
        "  G = cvxopt_matrix(# -- INSERT YOUR CODE HERE -- #)\n",
        "  h = cvxopt_matrix(# -- INSERT YOUR CODE HERE -- #)\n",
        "  A = cvxopt_matrix(# -- INSERT YOUR CODE HERE -- #)\n",
        "  b = cvxopt_matrix(# -- INSERT YOUR CODE HERE -- #)\n",
        "\n",
        "  cvxopt_solvers.options['show_progress'] = False\n",
        "  cvxopt_solvers.options['abstol'] = 1e-10\n",
        "  cvxopt_solvers.options['reltol'] = 1e-10\n",
        "  cvxopt_solvers.options['feastol'] = 1e-10\n",
        "\n",
        "  # -- INSERT YOUR CODE HERE -- #\n",
        "  sol = cvxopt_solvers.qp(P, q, G, h, A, b)\n",
        "  # -- INSERT YOUR CODE HERE -- #\n",
        "  alphas = np.array(sol['x'])\n",
        "\n",
        "  return alphas, sol_time\n",
        "\n",
        "\n",
        "# Compute the decision boundary\n",
        "# -------- INSERT YOUR CODE HERE -------- # \n",
        "\n",
        "# Compute the optimal support vectors\n",
        "# -------- INSERT YOUR CODE HERE -------- #"
      ],
      "execution_count": 0,
      "outputs": []
    },
    {
      "cell_type": "code",
      "metadata": {
        "id": "GHDLie13dhDl",
        "colab_type": "code",
        "colab": {}
      },
      "source": [
        "# Problem (1d)\n",
        "def Linearly_separable (X, y):\n",
        "  # -------- INSERT YOUR CODE HERE -------- #\n",
        "  # \n",
        "  #\n",
        "  # Output: sep = 1 if data linearly seperable\n",
        "  #         sep = 0 if data not linearly seperable\n",
        "\n",
        "  return sep"
      ],
      "execution_count": 0,
      "outputs": []
    },
    {
      "cell_type": "code",
      "metadata": {
        "id": "sfH5fmPydj23",
        "colab_type": "code",
        "colab": {}
      },
      "source": [
        "# Problem (1f)\n",
        "\n",
        "def l2_norm_LinearSVM_Primal (X, y, C):\n",
        "  # -------- INSERT YOUR CODE HERE -------- #\n",
        "  # \n",
        "  #\n",
        "\n",
        "  return w, b, sol_time\n",
        "\n",
        "# Compute the decision boundary\n",
        "# -------- INSERT YOUR CODE HERE -------- # \n",
        "\n",
        "# Compute the optimal support vectors\n",
        "# -------- INSERT YOUR CODE HERE -------- #\n"
      ],
      "execution_count": 0,
      "outputs": []
    },
    {
      "cell_type": "code",
      "metadata": {
        "id": "T7Cnbhwbdm9j",
        "colab_type": "code",
        "colab": {}
      },
      "source": [
        "# Problem (1g)\n",
        "\n",
        "def l2_norm_LinearSVM_Dual (X, y, C):\n",
        "  zero_tol = 1e-7\n",
        "\n",
        "  cvxopt_solvers.options['show_progress'] = False\n",
        "  cvxopt_solvers.options['abstol'] = 1e-10\n",
        "  cvxopt_solvers.options['reltol'] = 1e-10\n",
        "  cvxopt_solvers.options['feastol'] = 1e-10\n",
        "\n",
        "  # -------- INSERT YOUR CODE HERE -------- #\n",
        "  # \n",
        "  #\n",
        "  \n",
        "  sol = cvxopt_solvers.qp(P, q, G, h, A, b)\n",
        "  \n",
        "  # -------- INSERT YOUR CODE HERE -------- #\n",
        "  # \n",
        "  #\n",
        "  \n",
        "  return alphas, sol_time\n",
        "\n",
        "# Compute the decision boundary\n",
        "# -------- INSERT YOUR CODE HERE -------- # \n",
        "\n",
        "# Compute the optimal support vectors\n",
        "# -------- INSERT YOUR CODE HERE -------- #\n",
        "\n",
        "# Problem (1h)\n",
        "\n",
        "# Plot the decision boundaries and datapoints\n",
        "# -------- INSERT YOUR CODE HERE -------- #"
      ],
      "execution_count": 0,
      "outputs": []
    },
    {
      "cell_type": "markdown",
      "metadata": {
        "id": "v3GFVhrLc1k4",
        "colab_type": "text"
      },
      "source": [
        "## Problem 2"
      ]
    },
    {
      "cell_type": "markdown",
      "metadata": {
        "id": "EC9jVAQadqg0",
        "colab_type": "text"
      },
      "source": [
        "(2a) to (2b)"
      ]
    },
    {
      "cell_type": "code",
      "metadata": {
        "id": "kvt03pmSdpYj",
        "colab_type": "code",
        "colab": {}
      },
      "source": [
        "# Import libraries\n",
        "from numpy import *\n",
        "import pandas as pd\n",
        "# Hint: consider using this funtion for (2a)\n",
        "from sklearn.metrics.pairwise import euclidean_distances\n",
        "from sklearn.model_selection import train_test_split\n",
        "from sklearn.svm import SVC\n",
        "from sklearn import preprocessing\n",
        "\n",
        "import matplotlib.pylab as plt"
      ],
      "execution_count": 0,
      "outputs": []
    },
    {
      "cell_type": "code",
      "metadata": {
        "id": "KVCvXff_dwkt",
        "colab_type": "code",
        "colab": {}
      },
      "source": [
        "# Import Data\n",
        "data2 = pd.read_csv('prob2data.csv',header=None).values\n",
        "X = data2[:,0:2]\n",
        "y = data2[:,-1]\n",
        "X_train, X_test, y_train, y_test = train_test_split(X, y, test_size=0.2, random_state = 2020)"
      ],
      "execution_count": 0,
      "outputs": []
    },
    {
      "cell_type": "code",
      "metadata": {
        "id": "QCjvNW9id06d",
        "colab_type": "code",
        "colab": {}
      },
      "source": [
        "# Problem (2a)\n",
        "\n",
        "def gaussian_kernal(sigma):\n",
        "    def gaussian_kernel_sigma(x1, x2):\n",
        "        # -------- INSERT YOUR CODE HERE -------- # \n",
        "        return # -------- INSERT YOUR CODE HERE -------- # \n",
        "    return gaussian_kernel_sigma\n"
      ],
      "execution_count": 0,
      "outputs": []
    },
    {
      "cell_type": "code",
      "metadata": {
        "id": "18djpKvNd2M1",
        "colab_type": "code",
        "colab": {}
      },
      "source": [
        "# Problem (2b)\n",
        "\n",
        "kernel_SVM = SVC(# -- INSERT YOUR CODE HERE -- #)\n",
        "\n",
        "# Compute # of optimal support vectors\n",
        "# -- INSERT YOUR CODE HERE -- #\n",
        "\n",
        "# Compute prediction error ratio in test set\n",
        "# -- INSERT YOUR CODE HERE -- #\n",
        "\n",
        "# Plot the decision boundary with all datapoints\n",
        "# -- INSERT YOUR CODE HERE -- #"
      ],
      "execution_count": 0,
      "outputs": []
    },
    {
      "cell_type": "markdown",
      "metadata": {
        "id": "Fy2AZxlgd4U3",
        "colab_type": "text"
      },
      "source": [
        "(2c) - (2e)"
      ]
    },
    {
      "cell_type": "code",
      "metadata": {
        "id": "GoQhE3eWd5qs",
        "colab_type": "code",
        "colab": {}
      },
      "source": [
        "# Import data for (2c) - (2e)\n",
        "data3 = pd.read_csv('votes.csv')\n",
        "X = data3[['white','black','poverty','density','bachelor','highschool','age65plus','income','age18under','population2014']]\n",
        "X = X.values\n",
        "X = preprocessing.scale(X)\n"
      ],
      "execution_count": 0,
      "outputs": []
    },
    {
      "cell_type": "code",
      "metadata": {
        "id": "A5roSNUNeD8u",
        "colab_type": "code",
        "colab": {}
      },
      "source": [
        "# Problem (2c)\n",
        "y = # -- INSERT YOUR CODE HERE -- #\n"
      ],
      "execution_count": 0,
      "outputs": []
    },
    {
      "cell_type": "code",
      "metadata": {
        "id": "uTaXGyAWeGGp",
        "colab_type": "code",
        "colab": {}
      },
      "source": [
        "# Train / test split for (2d) - (2e)\n",
        "X_train, X_test, y_train, y_test = train_test_split(X, y, test_size=0.3, random_state = 2020)"
      ],
      "execution_count": 0,
      "outputs": []
    },
    {
      "cell_type": "code",
      "metadata": {
        "id": "OPRHeyeQeImt",
        "colab_type": "code",
        "colab": {}
      },
      "source": [
        "# Problem (2d)\n",
        "\n",
        "# You may use SVC from sklearn.svm\n",
        "# -------- INSERT YOUR CODE HERE -------- #\n",
        "\n",
        "# Compute # of optimal support vectors\n",
        "# -------- INSERT YOUR CODE HERE -------- #\n",
        "\n",
        "# Compute prediction error ratio in test set\n",
        "# -------- INSERT YOUR CODE HERE -------- #"
      ],
      "execution_count": 0,
      "outputs": []
    }
  ]
}